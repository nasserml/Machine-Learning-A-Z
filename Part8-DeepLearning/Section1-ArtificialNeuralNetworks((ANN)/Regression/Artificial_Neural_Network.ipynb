{
  "nbformat": 4,
  "nbformat_minor": 0,
  "metadata": {
    "colab": {
      "provenance": []
    },
    "kernelspec": {
      "name": "python3",
      "display_name": "Python 3"
    }
  },
  "cells": [
    {
      "cell_type": "markdown",
      "metadata": {
        "id": "3cbb7fRy-eyr"
      },
      "source": [
        "# Artificial Neural Network"
      ]
    },
    {
      "cell_type": "markdown",
      "metadata": {
        "id": "8sNDnxE2-pwE"
      },
      "source": [
        "### Importing the libraries"
      ]
    },
    {
      "cell_type": "code",
      "source": [
        "import numpy as np\n",
        "import pandas as pd\n",
        "\n",
        "import tensorflow as tf"
      ],
      "metadata": {
        "id": "p1Ox5Ez4ZOSY"
      },
      "execution_count": 1,
      "outputs": []
    },
    {
      "cell_type": "code",
      "source": [
        "tf.__version__"
      ],
      "metadata": {
        "colab": {
          "base_uri": "https://localhost:8080/",
          "height": 35
        },
        "id": "kSi5TgWRZg21",
        "outputId": "fb057a83-ce2c-4c18-a7cb-32ac30ac6a86"
      },
      "execution_count": 2,
      "outputs": [
        {
          "output_type": "execute_result",
          "data": {
            "text/plain": [
              "'2.11.0'"
            ],
            "application/vnd.google.colaboratory.intrinsic+json": {
              "type": "string"
            }
          },
          "metadata": {},
          "execution_count": 2
        }
      ]
    },
    {
      "cell_type": "markdown",
      "metadata": {
        "id": "AG3FQEch-yuA"
      },
      "source": [
        "## Part 1 - Data Preprocessing"
      ]
    },
    {
      "cell_type": "markdown",
      "metadata": {
        "id": "-4zq8Mza_D9O"
      },
      "source": [
        "### Importing the dataset"
      ]
    },
    {
      "cell_type": "code",
      "source": [
        "dataset = pd.read_excel('Folds5x2_pp.xlsx')\n",
        "\n",
        "X = dataset.iloc[:, :-1].values\n",
        "y = dataset.iloc[:, -1].values"
      ],
      "metadata": {
        "id": "86D7ZoOCZ2th"
      },
      "execution_count": 3,
      "outputs": []
    },
    {
      "cell_type": "code",
      "source": [
        "print(X)"
      ],
      "metadata": {
        "colab": {
          "base_uri": "https://localhost:8080/"
        },
        "id": "yyT-sTBkgpJ3",
        "outputId": "7d959593-4901-4ce4-def1-86ec7c18cd35"
      },
      "execution_count": 4,
      "outputs": [
        {
          "output_type": "stream",
          "name": "stdout",
          "text": [
            "[[  14.96   41.76 1024.07   73.17]\n",
            " [  25.18   62.96 1020.04   59.08]\n",
            " [   5.11   39.4  1012.16   92.14]\n",
            " ...\n",
            " [  31.32   74.33 1012.92   36.48]\n",
            " [  24.48   69.45 1013.86   62.39]\n",
            " [  21.6    62.52 1017.23   67.87]]\n"
          ]
        }
      ]
    },
    {
      "cell_type": "code",
      "source": [
        "print(y)"
      ],
      "metadata": {
        "colab": {
          "base_uri": "https://localhost:8080/"
        },
        "id": "E6m5lWoEgqmw",
        "outputId": "144d5eb9-5716-4c43-ebbf-99be7b1f6a40"
      },
      "execution_count": 5,
      "outputs": [
        {
          "output_type": "stream",
          "name": "stdout",
          "text": [
            "[463.26 444.37 488.56 ... 429.57 435.74 453.28]\n"
          ]
        }
      ]
    },
    {
      "cell_type": "markdown",
      "metadata": {
        "id": "VC6omXel_Up0"
      },
      "source": [
        "### Splitting the dataset into the Training set and Test set"
      ]
    },
    {
      "cell_type": "code",
      "source": [
        "from sklearn.model_selection import train_test_split\n",
        "\n",
        "X_train, X_test, y_train, y_test = train_test_split(X, y, test_size = 0.2, random_state = 0)"
      ],
      "metadata": {
        "id": "d2vhdf21g0yg"
      },
      "execution_count": 6,
      "outputs": []
    },
    {
      "cell_type": "markdown",
      "metadata": {
        "id": "_mSLlAT9_eyI"
      },
      "source": [
        "## Part 2 - Building the ANN"
      ]
    },
    {
      "cell_type": "markdown",
      "metadata": {
        "id": "CsBULd_f_wLY"
      },
      "source": [
        "### Initializing the ANN"
      ]
    },
    {
      "cell_type": "code",
      "source": [
        "ann = tf.keras.models.Sequential()"
      ],
      "metadata": {
        "id": "ZcCZ_RTtiAWw"
      },
      "execution_count": 7,
      "outputs": []
    },
    {
      "cell_type": "markdown",
      "metadata": {
        "id": "iitAFJS_ABUn"
      },
      "source": [
        "### Adding the input layer and the first hidden layer"
      ]
    },
    {
      "cell_type": "code",
      "source": [
        "ann.add(tf.keras.layers.Dense(units = 6, activation= 'relu'))"
      ],
      "metadata": {
        "id": "MXWrOReHix8r"
      },
      "execution_count": 8,
      "outputs": []
    },
    {
      "cell_type": "markdown",
      "metadata": {
        "id": "-lb4kK_wAKbs"
      },
      "source": [
        "### Adding the second hidden layer"
      ]
    },
    {
      "cell_type": "code",
      "source": [
        "ann.add(tf.keras.layers.Dense(units = 6, activation= 'relu'))"
      ],
      "metadata": {
        "id": "CwrdEVgMjnY8"
      },
      "execution_count": 9,
      "outputs": []
    },
    {
      "cell_type": "markdown",
      "metadata": {
        "id": "jwMOmKb3AdBY"
      },
      "source": [
        "### Adding the output layer"
      ]
    },
    {
      "cell_type": "code",
      "source": [
        "ann.add(tf.keras.layers.Dense(units = 1))"
      ],
      "metadata": {
        "id": "FLOCpHz0j6M-"
      },
      "execution_count": 10,
      "outputs": []
    },
    {
      "cell_type": "markdown",
      "metadata": {
        "id": "fq7e4fF6A1yy"
      },
      "source": [
        "## Part 3 - Training the ANN"
      ]
    },
    {
      "cell_type": "markdown",
      "metadata": {
        "id": "qDeylAs2An25"
      },
      "source": [
        "### Compiling the ANN"
      ]
    },
    {
      "cell_type": "code",
      "source": [
        "ann.compile(optimizer='adam', loss = 'mean_squared_error')"
      ],
      "metadata": {
        "id": "lMqcvCcFkQHO"
      },
      "execution_count": 11,
      "outputs": []
    },
    {
      "cell_type": "markdown",
      "metadata": {
        "id": "YjVuiybYOo7r"
      },
      "source": [
        "### Training the ANN model on the Training set"
      ]
    },
    {
      "cell_type": "code",
      "source": [
        "ann.fit(X_train, y_train, batch_size = 32, epochs = 100)"
      ],
      "metadata": {
        "colab": {
          "base_uri": "https://localhost:8080/"
        },
        "id": "KMo-1jjYlCpk",
        "outputId": "af717b6e-58af-41a9-9f7c-3247b982fdea"
      },
      "execution_count": 12,
      "outputs": [
        {
          "output_type": "stream",
          "name": "stdout",
          "text": [
            "Epoch 1/100\n",
            "240/240 [==============================] - 2s 4ms/step - loss: 25919.9473\n",
            "Epoch 2/100\n",
            "240/240 [==============================] - 2s 8ms/step - loss: 365.4500\n",
            "Epoch 3/100\n",
            "240/240 [==============================] - 1s 6ms/step - loss: 351.5314\n",
            "Epoch 4/100\n",
            "240/240 [==============================] - 1s 3ms/step - loss: 338.1686\n",
            "Epoch 5/100\n",
            "240/240 [==============================] - 1s 3ms/step - loss: 321.8054\n",
            "Epoch 6/100\n",
            "240/240 [==============================] - 1s 3ms/step - loss: 304.1119\n",
            "Epoch 7/100\n",
            "240/240 [==============================] - 1s 3ms/step - loss: 283.8482\n",
            "Epoch 8/100\n",
            "240/240 [==============================] - 1s 3ms/step - loss: 262.5399\n",
            "Epoch 9/100\n",
            "240/240 [==============================] - 1s 3ms/step - loss: 240.3531\n",
            "Epoch 10/100\n",
            "240/240 [==============================] - 1s 2ms/step - loss: 216.8936\n",
            "Epoch 11/100\n",
            "240/240 [==============================] - 0s 2ms/step - loss: 194.1791\n",
            "Epoch 12/100\n",
            "240/240 [==============================] - 0s 2ms/step - loss: 170.8969\n",
            "Epoch 13/100\n",
            "240/240 [==============================] - 0s 2ms/step - loss: 148.9468\n",
            "Epoch 14/100\n",
            "240/240 [==============================] - 0s 2ms/step - loss: 127.6443\n",
            "Epoch 15/100\n",
            "240/240 [==============================] - 0s 2ms/step - loss: 108.4134\n",
            "Epoch 16/100\n",
            "240/240 [==============================] - 0s 2ms/step - loss: 91.3188\n",
            "Epoch 17/100\n",
            "240/240 [==============================] - 0s 2ms/step - loss: 76.4866\n",
            "Epoch 18/100\n",
            "240/240 [==============================] - 0s 2ms/step - loss: 64.3280\n",
            "Epoch 19/100\n",
            "240/240 [==============================] - 0s 2ms/step - loss: 55.0427\n",
            "Epoch 20/100\n",
            "240/240 [==============================] - 0s 2ms/step - loss: 48.5690\n",
            "Epoch 21/100\n",
            "240/240 [==============================] - 0s 2ms/step - loss: 43.8398\n",
            "Epoch 22/100\n",
            "240/240 [==============================] - 1s 2ms/step - loss: 40.4237\n",
            "Epoch 23/100\n",
            "240/240 [==============================] - 1s 3ms/step - loss: 38.5531\n",
            "Epoch 24/100\n",
            "240/240 [==============================] - 1s 3ms/step - loss: 37.3510\n",
            "Epoch 25/100\n",
            "240/240 [==============================] - 1s 3ms/step - loss: 35.9430\n",
            "Epoch 26/100\n",
            "240/240 [==============================] - 1s 2ms/step - loss: 35.4226\n",
            "Epoch 27/100\n",
            "240/240 [==============================] - 0s 2ms/step - loss: 34.8026\n",
            "Epoch 28/100\n",
            "240/240 [==============================] - 0s 2ms/step - loss: 34.4553\n",
            "Epoch 29/100\n",
            "240/240 [==============================] - 0s 2ms/step - loss: 33.4928\n",
            "Epoch 30/100\n",
            "240/240 [==============================] - 0s 2ms/step - loss: 33.0498\n",
            "Epoch 31/100\n",
            "240/240 [==============================] - 0s 2ms/step - loss: 32.4580\n",
            "Epoch 32/100\n",
            "240/240 [==============================] - 0s 2ms/step - loss: 31.8645\n",
            "Epoch 33/100\n",
            "240/240 [==============================] - 0s 2ms/step - loss: 31.6597\n",
            "Epoch 34/100\n",
            "240/240 [==============================] - 0s 2ms/step - loss: 30.9904\n",
            "Epoch 35/100\n",
            "240/240 [==============================] - 0s 2ms/step - loss: 30.5108\n",
            "Epoch 36/100\n",
            "240/240 [==============================] - 0s 2ms/step - loss: 30.3934\n",
            "Epoch 37/100\n",
            "240/240 [==============================] - 0s 2ms/step - loss: 29.9774\n",
            "Epoch 38/100\n",
            "240/240 [==============================] - 0s 2ms/step - loss: 29.3635\n",
            "Epoch 39/100\n",
            "240/240 [==============================] - 0s 2ms/step - loss: 28.8459\n",
            "Epoch 40/100\n",
            "240/240 [==============================] - 0s 2ms/step - loss: 29.5974\n",
            "Epoch 41/100\n",
            "240/240 [==============================] - 0s 2ms/step - loss: 28.3329\n",
            "Epoch 42/100\n",
            "240/240 [==============================] - 0s 2ms/step - loss: 28.3048\n",
            "Epoch 43/100\n",
            "240/240 [==============================] - 0s 2ms/step - loss: 28.0612\n",
            "Epoch 44/100\n",
            "240/240 [==============================] - 0s 2ms/step - loss: 28.1075\n",
            "Epoch 45/100\n",
            "240/240 [==============================] - 0s 2ms/step - loss: 28.1322\n",
            "Epoch 46/100\n",
            "240/240 [==============================] - 0s 2ms/step - loss: 27.4794\n",
            "Epoch 47/100\n",
            "240/240 [==============================] - 0s 2ms/step - loss: 27.4301\n",
            "Epoch 48/100\n",
            "240/240 [==============================] - 0s 2ms/step - loss: 27.5297\n",
            "Epoch 49/100\n",
            "240/240 [==============================] - 0s 2ms/step - loss: 27.2581\n",
            "Epoch 50/100\n",
            "240/240 [==============================] - 0s 2ms/step - loss: 26.8644\n",
            "Epoch 51/100\n",
            "240/240 [==============================] - 1s 2ms/step - loss: 27.3533\n",
            "Epoch 52/100\n",
            "240/240 [==============================] - 1s 3ms/step - loss: 27.0229\n",
            "Epoch 53/100\n",
            "240/240 [==============================] - 1s 3ms/step - loss: 26.7316\n",
            "Epoch 54/100\n",
            "240/240 [==============================] - 1s 3ms/step - loss: 26.5535\n",
            "Epoch 55/100\n",
            "240/240 [==============================] - 1s 2ms/step - loss: 26.9288\n",
            "Epoch 56/100\n",
            "240/240 [==============================] - 0s 2ms/step - loss: 26.6688\n",
            "Epoch 57/100\n",
            "240/240 [==============================] - 0s 2ms/step - loss: 26.9049\n",
            "Epoch 58/100\n",
            "240/240 [==============================] - 0s 2ms/step - loss: 26.6429\n",
            "Epoch 59/100\n",
            "240/240 [==============================] - 0s 2ms/step - loss: 26.8837\n",
            "Epoch 60/100\n",
            "240/240 [==============================] - 0s 2ms/step - loss: 27.0411\n",
            "Epoch 61/100\n",
            "240/240 [==============================] - 0s 2ms/step - loss: 27.1027\n",
            "Epoch 62/100\n",
            "240/240 [==============================] - 0s 2ms/step - loss: 26.7661\n",
            "Epoch 63/100\n",
            "240/240 [==============================] - 0s 2ms/step - loss: 26.9010\n",
            "Epoch 64/100\n",
            "240/240 [==============================] - 0s 2ms/step - loss: 26.5445\n",
            "Epoch 65/100\n",
            "240/240 [==============================] - 0s 2ms/step - loss: 26.4967\n",
            "Epoch 66/100\n",
            "240/240 [==============================] - 0s 2ms/step - loss: 26.8712\n",
            "Epoch 67/100\n",
            "240/240 [==============================] - 0s 2ms/step - loss: 26.3436\n",
            "Epoch 68/100\n",
            "240/240 [==============================] - 0s 2ms/step - loss: 26.6970\n",
            "Epoch 69/100\n",
            "240/240 [==============================] - 0s 2ms/step - loss: 27.0014\n",
            "Epoch 70/100\n",
            "240/240 [==============================] - 0s 2ms/step - loss: 26.3247\n",
            "Epoch 71/100\n",
            "240/240 [==============================] - 0s 2ms/step - loss: 26.6964\n",
            "Epoch 72/100\n",
            "240/240 [==============================] - 0s 2ms/step - loss: 26.4589\n",
            "Epoch 73/100\n",
            "240/240 [==============================] - 0s 2ms/step - loss: 26.5652\n",
            "Epoch 74/100\n",
            "240/240 [==============================] - 0s 2ms/step - loss: 26.8349\n",
            "Epoch 75/100\n",
            "240/240 [==============================] - 0s 2ms/step - loss: 26.1431\n",
            "Epoch 76/100\n",
            "240/240 [==============================] - 0s 2ms/step - loss: 26.5163\n",
            "Epoch 77/100\n",
            "240/240 [==============================] - 0s 2ms/step - loss: 26.6321\n",
            "Epoch 78/100\n",
            "240/240 [==============================] - 0s 2ms/step - loss: 26.6406\n",
            "Epoch 79/100\n",
            "240/240 [==============================] - 1s 2ms/step - loss: 26.9835\n",
            "Epoch 80/100\n",
            "240/240 [==============================] - 1s 3ms/step - loss: 26.4399\n",
            "Epoch 81/100\n",
            "240/240 [==============================] - 1s 2ms/step - loss: 26.1832\n",
            "Epoch 82/100\n",
            "240/240 [==============================] - 1s 3ms/step - loss: 26.6588\n",
            "Epoch 83/100\n",
            "240/240 [==============================] - 1s 3ms/step - loss: 26.1818\n",
            "Epoch 84/100\n",
            "240/240 [==============================] - 0s 2ms/step - loss: 27.0765\n",
            "Epoch 85/100\n",
            "240/240 [==============================] - 0s 2ms/step - loss: 26.2485\n",
            "Epoch 86/100\n",
            "240/240 [==============================] - 0s 2ms/step - loss: 26.2079\n",
            "Epoch 87/100\n",
            "240/240 [==============================] - 0s 2ms/step - loss: 26.7594\n",
            "Epoch 88/100\n",
            "240/240 [==============================] - 0s 2ms/step - loss: 26.5539\n",
            "Epoch 89/100\n",
            "240/240 [==============================] - 0s 2ms/step - loss: 26.8814\n",
            "Epoch 90/100\n",
            "240/240 [==============================] - 0s 2ms/step - loss: 26.8142\n",
            "Epoch 91/100\n",
            "240/240 [==============================] - 0s 2ms/step - loss: 26.4785\n",
            "Epoch 92/100\n",
            "240/240 [==============================] - 0s 2ms/step - loss: 26.4123\n",
            "Epoch 93/100\n",
            "240/240 [==============================] - 0s 2ms/step - loss: 26.8912\n",
            "Epoch 94/100\n",
            "240/240 [==============================] - 0s 2ms/step - loss: 26.6280\n",
            "Epoch 95/100\n",
            "240/240 [==============================] - 0s 2ms/step - loss: 26.7639\n",
            "Epoch 96/100\n",
            "240/240 [==============================] - 0s 2ms/step - loss: 26.7592\n",
            "Epoch 97/100\n",
            "240/240 [==============================] - 0s 2ms/step - loss: 26.3713\n",
            "Epoch 98/100\n",
            "240/240 [==============================] - 0s 2ms/step - loss: 26.4856\n",
            "Epoch 99/100\n",
            "240/240 [==============================] - 0s 2ms/step - loss: 26.2432\n",
            "Epoch 100/100\n",
            "240/240 [==============================] - 0s 2ms/step - loss: 27.1538\n"
          ]
        },
        {
          "output_type": "execute_result",
          "data": {
            "text/plain": [
              "<keras.callbacks.History at 0x7fe9c272d5b0>"
            ]
          },
          "metadata": {},
          "execution_count": 12
        }
      ]
    },
    {
      "cell_type": "markdown",
      "metadata": {
        "id": "0H0zKKNEBLD5"
      },
      "source": [
        "### Predicting the results of the Test set"
      ]
    },
    {
      "cell_type": "code",
      "source": [
        "y_pred = ann.predict(X_test)\n",
        "np.set_printoptions(precision= 2)\n",
        "\n",
        "print(np.concatenate((y_pred.reshape(len(y_pred), 1) ,y_test.reshape(len(y_test), 1)), 1))"
      ],
      "metadata": {
        "colab": {
          "base_uri": "https://localhost:8080/"
        },
        "id": "3UGO8bTZmUmT",
        "outputId": "ac4b7e05-3e4d-4f93-ed16-7f3477ca1f0e"
      },
      "execution_count": 14,
      "outputs": [
        {
          "output_type": "stream",
          "name": "stdout",
          "text": [
            "60/60 [==============================] - 0s 1ms/step\n",
            "[[431.97 431.23]\n",
            " [462.98 460.01]\n",
            " [466.43 461.14]\n",
            " ...\n",
            " [473.77 473.26]\n",
            " [440.4  438.  ]\n",
            " [459.68 463.28]]\n"
          ]
        }
      ]
    }
  ]
}